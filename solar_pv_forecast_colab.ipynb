{
  "cells": [
    {
      "cell_type": "code",
      "execution_count": null,
      "id": "c4a10b48",
      "metadata": {
        "id": "c4a10b48"
      },
      "outputs": [],
      "source": [
        "!pip install flask pyngrok --quiet"
      ]
    },
    {
      "cell_type": "code",
      "execution_count": null,
      "id": "bb851995",
      "metadata": {
        "id": "bb851995",
        "colab": {
          "base_uri": "https://localhost:8080/"
        },
        "outputId": "13445379-0e0f-4a36-f70e-3fcd81ba3de4"
      },
      "outputs": [
        {
          "output_type": "stream",
          "name": "stdout",
          "text": [
            "\u001b[2K     \u001b[90m━━━━━━━━━━━━━━━━━━━━━━━━━━━━━━━━━━━━━━━━\u001b[0m \u001b[32m89.9/89.9 kB\u001b[0m \u001b[31m2.0 MB/s\u001b[0m eta \u001b[36m0:00:00\u001b[0m\n",
            "\u001b[2K   \u001b[90m━━━━━━━━━━━━━━━━━━━━━━━━━━━━━━━━━━━━━━━━\u001b[0m \u001b[32m1.3/1.3 MB\u001b[0m \u001b[31m15.9 MB/s\u001b[0m eta \u001b[36m0:00:00\u001b[0m\n",
            "\u001b[2K   \u001b[90m━━━━━━━━━━━━━━━━━━━━━━━━━━━━━━━━━━━━━━━━\u001b[0m \u001b[32m13.1/13.1 MB\u001b[0m \u001b[31m32.9 MB/s\u001b[0m eta \u001b[36m0:00:00\u001b[0m\n",
            "\u001b[2K   \u001b[90m━━━━━━━━━━━━━━━━━━━━━━━━━━━━━━━━━━━━━━━━\u001b[0m \u001b[32m61.4/61.4 kB\u001b[0m \u001b[31m3.0 MB/s\u001b[0m eta \u001b[36m0:00:00\u001b[0m\n",
            "\u001b[2K   \u001b[90m━━━━━━━━━━━━━━━━━━━━━━━━━━━━━━━━━━━━━━━━\u001b[0m \u001b[32m8.6/8.6 MB\u001b[0m \u001b[31m56.2 MB/s\u001b[0m eta \u001b[36m0:00:00\u001b[0m\n",
            "\u001b[2K   \u001b[90m━━━━━━━━━━━━━━━━━━━━━━━━━━━━━━━━━━━━━━━━\u001b[0m \u001b[32m66.5/66.5 kB\u001b[0m \u001b[31m3.2 MB/s\u001b[0m eta \u001b[36m0:00:00\u001b[0m\n",
            "\u001b[?25h\u001b[31mERROR: pip's dependency resolver does not currently take into account all the packages that are installed. This behaviour is the source of the following dependency conflicts.\n",
            "google-colab 1.0.0 requires pandas==2.2.2, but you have pandas 2.2.3 which is incompatible.\u001b[0m\u001b[31m\n",
            "\u001b[0m✅  TensorFlow 2.18.0 — GPU: []\n"
          ]
        }
      ],
      "source": [
        "#Install deps   (≈20 s)\n",
        "!pip -q install --upgrade \\\n",
        "    tensorflow==2.18 keras==3.* \\\n",
        "    pandas requests requests_cache scikit-learn matplotlib pyngrok tqdm\n",
        "import tensorflow as tf, os, platform, datetime, sys\n",
        "print(f'✅  TensorFlow {tf.__version__} — GPU:', tf.config.list_physical_devices('GPU'))"
      ]
    },
    {
      "cell_type": "code",
      "execution_count": null,
      "id": "8d8797b0",
      "metadata": {
        "id": "8d8797b0"
      },
      "outputs": [],
      "source": [
        "#Imports / global config\n",
        "from datetime import datetime, timedelta\n",
        "import numpy as np, pandas as pd, requests_cache, requests, joblib, pickle, tqdm, os\n",
        "#Site parameters\n",
        "LAT, LON           = 49.847690, 24.024866           # Lviv\n",
        "START_DATE, END_DATE = '2022-01-01', '2025-04-30'\n",
        "HOURLY_VARS        = ['temperature_2m','cloudcover','windspeed_10m','shortwave_radiation']\n",
        "#ML parameters\n",
        "SEQ_LEN = 24\n",
        "EPOCHS  = 50\n",
        "BATCH   = 32\n",
        "#Cache for HTTP\n",
        "CACHE = requests_cache.CachedSession('meteocache', expire_after=86400)"
      ]
    },
    {
      "cell_type": "code",
      "execution_count": null,
      "id": "5b9d50ea",
      "metadata": {
        "id": "5b9d50ea",
        "colab": {
          "base_uri": "https://localhost:8080/",
          "height": 255
        },
        "outputId": "58fbccd2-0c9a-4532-83fd-d32e820d63b2"
      },
      "outputs": [
        {
          "output_type": "stream",
          "name": "stdout",
          "text": [
            "Rows: 29184\n"
          ]
        },
        {
          "output_type": "execute_result",
          "data": {
            "text/plain": [
              "                     temperature_2m  cloudcover  windspeed_10m  \\\n",
              "datetime                                                         \n",
              "2022-01-01 00:00:00             6.6         100           26.1   \n",
              "2022-01-01 01:00:00             6.6         100           27.6   \n",
              "2022-01-01 02:00:00             6.3         100           27.0   \n",
              "2022-01-01 03:00:00             6.3         100           27.8   \n",
              "2022-01-01 04:00:00             6.3         100           26.3   \n",
              "\n",
              "                     shortwave_radiation  \n",
              "datetime                                  \n",
              "2022-01-01 00:00:00                  0.0  \n",
              "2022-01-01 01:00:00                  0.0  \n",
              "2022-01-01 02:00:00                  0.0  \n",
              "2022-01-01 03:00:00                  0.0  \n",
              "2022-01-01 04:00:00                  0.0  "
            ],
            "text/html": [
              "\n",
              "  <div id=\"df-e8071d7c-fc8a-4a0a-a3d5-44ca53b9a697\" class=\"colab-df-container\">\n",
              "    <div>\n",
              "<style scoped>\n",
              "    .dataframe tbody tr th:only-of-type {\n",
              "        vertical-align: middle;\n",
              "    }\n",
              "\n",
              "    .dataframe tbody tr th {\n",
              "        vertical-align: top;\n",
              "    }\n",
              "\n",
              "    .dataframe thead th {\n",
              "        text-align: right;\n",
              "    }\n",
              "</style>\n",
              "<table border=\"1\" class=\"dataframe\">\n",
              "  <thead>\n",
              "    <tr style=\"text-align: right;\">\n",
              "      <th></th>\n",
              "      <th>temperature_2m</th>\n",
              "      <th>cloudcover</th>\n",
              "      <th>windspeed_10m</th>\n",
              "      <th>shortwave_radiation</th>\n",
              "    </tr>\n",
              "    <tr>\n",
              "      <th>datetime</th>\n",
              "      <th></th>\n",
              "      <th></th>\n",
              "      <th></th>\n",
              "      <th></th>\n",
              "    </tr>\n",
              "  </thead>\n",
              "  <tbody>\n",
              "    <tr>\n",
              "      <th>2022-01-01 00:00:00</th>\n",
              "      <td>6.6</td>\n",
              "      <td>100</td>\n",
              "      <td>26.1</td>\n",
              "      <td>0.0</td>\n",
              "    </tr>\n",
              "    <tr>\n",
              "      <th>2022-01-01 01:00:00</th>\n",
              "      <td>6.6</td>\n",
              "      <td>100</td>\n",
              "      <td>27.6</td>\n",
              "      <td>0.0</td>\n",
              "    </tr>\n",
              "    <tr>\n",
              "      <th>2022-01-01 02:00:00</th>\n",
              "      <td>6.3</td>\n",
              "      <td>100</td>\n",
              "      <td>27.0</td>\n",
              "      <td>0.0</td>\n",
              "    </tr>\n",
              "    <tr>\n",
              "      <th>2022-01-01 03:00:00</th>\n",
              "      <td>6.3</td>\n",
              "      <td>100</td>\n",
              "      <td>27.8</td>\n",
              "      <td>0.0</td>\n",
              "    </tr>\n",
              "    <tr>\n",
              "      <th>2022-01-01 04:00:00</th>\n",
              "      <td>6.3</td>\n",
              "      <td>100</td>\n",
              "      <td>26.3</td>\n",
              "      <td>0.0</td>\n",
              "    </tr>\n",
              "  </tbody>\n",
              "</table>\n",
              "</div>\n",
              "    <div class=\"colab-df-buttons\">\n",
              "\n",
              "  <div class=\"colab-df-container\">\n",
              "    <button class=\"colab-df-convert\" onclick=\"convertToInteractive('df-e8071d7c-fc8a-4a0a-a3d5-44ca53b9a697')\"\n",
              "            title=\"Convert this dataframe to an interactive table.\"\n",
              "            style=\"display:none;\">\n",
              "\n",
              "  <svg xmlns=\"http://www.w3.org/2000/svg\" height=\"24px\" viewBox=\"0 -960 960 960\">\n",
              "    <path d=\"M120-120v-720h720v720H120Zm60-500h600v-160H180v160Zm220 220h160v-160H400v160Zm0 220h160v-160H400v160ZM180-400h160v-160H180v160Zm440 0h160v-160H620v160ZM180-180h160v-160H180v160Zm440 0h160v-160H620v160Z\"/>\n",
              "  </svg>\n",
              "    </button>\n",
              "\n",
              "  <style>\n",
              "    .colab-df-container {\n",
              "      display:flex;\n",
              "      gap: 12px;\n",
              "    }\n",
              "\n",
              "    .colab-df-convert {\n",
              "      background-color: #E8F0FE;\n",
              "      border: none;\n",
              "      border-radius: 50%;\n",
              "      cursor: pointer;\n",
              "      display: none;\n",
              "      fill: #1967D2;\n",
              "      height: 32px;\n",
              "      padding: 0 0 0 0;\n",
              "      width: 32px;\n",
              "    }\n",
              "\n",
              "    .colab-df-convert:hover {\n",
              "      background-color: #E2EBFA;\n",
              "      box-shadow: 0px 1px 2px rgba(60, 64, 67, 0.3), 0px 1px 3px 1px rgba(60, 64, 67, 0.15);\n",
              "      fill: #174EA6;\n",
              "    }\n",
              "\n",
              "    .colab-df-buttons div {\n",
              "      margin-bottom: 4px;\n",
              "    }\n",
              "\n",
              "    [theme=dark] .colab-df-convert {\n",
              "      background-color: #3B4455;\n",
              "      fill: #D2E3FC;\n",
              "    }\n",
              "\n",
              "    [theme=dark] .colab-df-convert:hover {\n",
              "      background-color: #434B5C;\n",
              "      box-shadow: 0px 1px 3px 1px rgba(0, 0, 0, 0.15);\n",
              "      filter: drop-shadow(0px 1px 2px rgba(0, 0, 0, 0.3));\n",
              "      fill: #FFFFFF;\n",
              "    }\n",
              "  </style>\n",
              "\n",
              "    <script>\n",
              "      const buttonEl =\n",
              "        document.querySelector('#df-e8071d7c-fc8a-4a0a-a3d5-44ca53b9a697 button.colab-df-convert');\n",
              "      buttonEl.style.display =\n",
              "        google.colab.kernel.accessAllowed ? 'block' : 'none';\n",
              "\n",
              "      async function convertToInteractive(key) {\n",
              "        const element = document.querySelector('#df-e8071d7c-fc8a-4a0a-a3d5-44ca53b9a697');\n",
              "        const dataTable =\n",
              "          await google.colab.kernel.invokeFunction('convertToInteractive',\n",
              "                                                    [key], {});\n",
              "        if (!dataTable) return;\n",
              "\n",
              "        const docLinkHtml = 'Like what you see? Visit the ' +\n",
              "          '<a target=\"_blank\" href=https://colab.research.google.com/notebooks/data_table.ipynb>data table notebook</a>'\n",
              "          + ' to learn more about interactive tables.';\n",
              "        element.innerHTML = '';\n",
              "        dataTable['output_type'] = 'display_data';\n",
              "        await google.colab.output.renderOutput(dataTable, element);\n",
              "        const docLink = document.createElement('div');\n",
              "        docLink.innerHTML = docLinkHtml;\n",
              "        element.appendChild(docLink);\n",
              "      }\n",
              "    </script>\n",
              "  </div>\n",
              "\n",
              "\n",
              "    <div id=\"df-68d73f25-7fdb-4601-a448-4d9460c0260c\">\n",
              "      <button class=\"colab-df-quickchart\" onclick=\"quickchart('df-68d73f25-7fdb-4601-a448-4d9460c0260c')\"\n",
              "                title=\"Suggest charts\"\n",
              "                style=\"display:none;\">\n",
              "\n",
              "<svg xmlns=\"http://www.w3.org/2000/svg\" height=\"24px\"viewBox=\"0 0 24 24\"\n",
              "     width=\"24px\">\n",
              "    <g>\n",
              "        <path d=\"M19 3H5c-1.1 0-2 .9-2 2v14c0 1.1.9 2 2 2h14c1.1 0 2-.9 2-2V5c0-1.1-.9-2-2-2zM9 17H7v-7h2v7zm4 0h-2V7h2v10zm4 0h-2v-4h2v4z\"/>\n",
              "    </g>\n",
              "</svg>\n",
              "      </button>\n",
              "\n",
              "<style>\n",
              "  .colab-df-quickchart {\n",
              "      --bg-color: #E8F0FE;\n",
              "      --fill-color: #1967D2;\n",
              "      --hover-bg-color: #E2EBFA;\n",
              "      --hover-fill-color: #174EA6;\n",
              "      --disabled-fill-color: #AAA;\n",
              "      --disabled-bg-color: #DDD;\n",
              "  }\n",
              "\n",
              "  [theme=dark] .colab-df-quickchart {\n",
              "      --bg-color: #3B4455;\n",
              "      --fill-color: #D2E3FC;\n",
              "      --hover-bg-color: #434B5C;\n",
              "      --hover-fill-color: #FFFFFF;\n",
              "      --disabled-bg-color: #3B4455;\n",
              "      --disabled-fill-color: #666;\n",
              "  }\n",
              "\n",
              "  .colab-df-quickchart {\n",
              "    background-color: var(--bg-color);\n",
              "    border: none;\n",
              "    border-radius: 50%;\n",
              "    cursor: pointer;\n",
              "    display: none;\n",
              "    fill: var(--fill-color);\n",
              "    height: 32px;\n",
              "    padding: 0;\n",
              "    width: 32px;\n",
              "  }\n",
              "\n",
              "  .colab-df-quickchart:hover {\n",
              "    background-color: var(--hover-bg-color);\n",
              "    box-shadow: 0 1px 2px rgba(60, 64, 67, 0.3), 0 1px 3px 1px rgba(60, 64, 67, 0.15);\n",
              "    fill: var(--button-hover-fill-color);\n",
              "  }\n",
              "\n",
              "  .colab-df-quickchart-complete:disabled,\n",
              "  .colab-df-quickchart-complete:disabled:hover {\n",
              "    background-color: var(--disabled-bg-color);\n",
              "    fill: var(--disabled-fill-color);\n",
              "    box-shadow: none;\n",
              "  }\n",
              "\n",
              "  .colab-df-spinner {\n",
              "    border: 2px solid var(--fill-color);\n",
              "    border-color: transparent;\n",
              "    border-bottom-color: var(--fill-color);\n",
              "    animation:\n",
              "      spin 1s steps(1) infinite;\n",
              "  }\n",
              "\n",
              "  @keyframes spin {\n",
              "    0% {\n",
              "      border-color: transparent;\n",
              "      border-bottom-color: var(--fill-color);\n",
              "      border-left-color: var(--fill-color);\n",
              "    }\n",
              "    20% {\n",
              "      border-color: transparent;\n",
              "      border-left-color: var(--fill-color);\n",
              "      border-top-color: var(--fill-color);\n",
              "    }\n",
              "    30% {\n",
              "      border-color: transparent;\n",
              "      border-left-color: var(--fill-color);\n",
              "      border-top-color: var(--fill-color);\n",
              "      border-right-color: var(--fill-color);\n",
              "    }\n",
              "    40% {\n",
              "      border-color: transparent;\n",
              "      border-right-color: var(--fill-color);\n",
              "      border-top-color: var(--fill-color);\n",
              "    }\n",
              "    60% {\n",
              "      border-color: transparent;\n",
              "      border-right-color: var(--fill-color);\n",
              "    }\n",
              "    80% {\n",
              "      border-color: transparent;\n",
              "      border-right-color: var(--fill-color);\n",
              "      border-bottom-color: var(--fill-color);\n",
              "    }\n",
              "    90% {\n",
              "      border-color: transparent;\n",
              "      border-bottom-color: var(--fill-color);\n",
              "    }\n",
              "  }\n",
              "</style>\n",
              "\n",
              "      <script>\n",
              "        async function quickchart(key) {\n",
              "          const quickchartButtonEl =\n",
              "            document.querySelector('#' + key + ' button');\n",
              "          quickchartButtonEl.disabled = true;  // To prevent multiple clicks.\n",
              "          quickchartButtonEl.classList.add('colab-df-spinner');\n",
              "          try {\n",
              "            const charts = await google.colab.kernel.invokeFunction(\n",
              "                'suggestCharts', [key], {});\n",
              "          } catch (error) {\n",
              "            console.error('Error during call to suggestCharts:', error);\n",
              "          }\n",
              "          quickchartButtonEl.classList.remove('colab-df-spinner');\n",
              "          quickchartButtonEl.classList.add('colab-df-quickchart-complete');\n",
              "        }\n",
              "        (() => {\n",
              "          let quickchartButtonEl =\n",
              "            document.querySelector('#df-68d73f25-7fdb-4601-a448-4d9460c0260c button');\n",
              "          quickchartButtonEl.style.display =\n",
              "            google.colab.kernel.accessAllowed ? 'block' : 'none';\n",
              "        })();\n",
              "      </script>\n",
              "    </div>\n",
              "    </div>\n",
              "  </div>\n"
            ],
            "application/vnd.google.colaboratory.intrinsic+json": {
              "type": "dataframe",
              "variable_name": "raw",
              "summary": "{\n  \"name\": \"raw\",\n  \"rows\": 29184,\n  \"fields\": [\n    {\n      \"column\": \"datetime\",\n      \"properties\": {\n        \"dtype\": \"date\",\n        \"min\": \"2022-01-01 00:00:00\",\n        \"max\": \"2025-04-30 23:00:00\",\n        \"num_unique_values\": 29184,\n        \"samples\": [\n          \"2024-07-12 18:00:00\",\n          \"2024-08-15 00:00:00\",\n          \"2023-10-24 14:00:00\"\n        ],\n        \"semantic_type\": \"\",\n        \"description\": \"\"\n      }\n    },\n    {\n      \"column\": \"temperature_2m\",\n      \"properties\": {\n        \"dtype\": \"number\",\n        \"std\": 8.785033248228022,\n        \"min\": -17.9,\n        \"max\": 34.0,\n        \"num_unique_values\": 477,\n        \"samples\": [\n          33.4,\n          6.8,\n          -6.5\n        ],\n        \"semantic_type\": \"\",\n        \"description\": \"\"\n      }\n    },\n    {\n      \"column\": \"cloudcover\",\n      \"properties\": {\n        \"dtype\": \"number\",\n        \"std\": 40,\n        \"min\": 0,\n        \"max\": 100,\n        \"num_unique_values\": 101,\n        \"samples\": [\n          16,\n          13,\n          89\n        ],\n        \"semantic_type\": \"\",\n        \"description\": \"\"\n      }\n    },\n    {\n      \"column\": \"windspeed_10m\",\n      \"properties\": {\n        \"dtype\": \"number\",\n        \"std\": 6.317362624920302,\n        \"min\": 0.0,\n        \"max\": 46.6,\n        \"num_unique_values\": 395,\n        \"samples\": [\n          31.2,\n          39.8,\n          17.7\n        ],\n        \"semantic_type\": \"\",\n        \"description\": \"\"\n      }\n    },\n    {\n      \"column\": \"shortwave_radiation\",\n      \"properties\": {\n        \"dtype\": \"number\",\n        \"std\": 214.3379025005393,\n        \"min\": 0.0,\n        \"max\": 902.0,\n        \"num_unique_values\": 883,\n        \"samples\": [\n          81.0,\n          714.0,\n          555.0\n        ],\n        \"semantic_type\": \"\",\n        \"description\": \"\"\n      }\n    }\n  ]\n}"
            }
          },
          "metadata": {},
          "execution_count": 4
        }
      ],
      "source": [
        "#Fetch weather archive (single API call, cached)\n",
        "def fetch_archive(lat=LAT, lon=LON, start=START_DATE, end=END_DATE):\n",
        "    url = (f\"https://archive-api.open-meteo.com/v1/archive?latitude={lat}&longitude={lon}\"\n",
        "           f\"&start_date={start}&end_date={end}&hourly={','.join(HOURLY_VARS)}&timezone=UTC\")\n",
        "    r = CACHE.get(url, timeout=60)\n",
        "    r.raise_for_status()\n",
        "    df = pd.DataFrame(r.json()['hourly'])\n",
        "    df['datetime'] = pd.to_datetime(df.pop('time'))\n",
        "    return df.set_index('datetime')\n",
        "raw = fetch_archive()\n",
        "print('Rows:', len(raw))\n",
        "raw.head()"
      ]
    },
    {
      "cell_type": "code",
      "execution_count": null,
      "id": "7554be42",
      "metadata": {
        "id": "7554be42"
      },
      "outputs": [],
      "source": [
        "#Pre‑processing & synthetic target\n",
        "data = raw.rename(columns={'temperature_2m':'temp',\n",
        "                           'cloudcover':'clouds',\n",
        "                           'windspeed_10m':'wind_speed',\n",
        "                           'shortwave_radiation':'radiation'})\n",
        "data['clouds'] /= 100.0\n",
        "np.random.seed(0)\n",
        "data['pv_kw_actual'] = data['radiation']/10 + np.random.normal(0, 10, len(data))\n",
        "data = data.interpolate(limit_direction='both').dropna()"
      ]
    },
    {
      "cell_type": "code",
      "execution_count": null,
      "id": "7399552e",
      "metadata": {
        "id": "7399552e",
        "colab": {
          "base_uri": "https://localhost:8080/"
        },
        "outputId": "05e75802-4ed7-4aeb-8681-e8390349579b"
      },
      "outputs": [
        {
          "output_type": "stream",
          "name": "stdout",
          "text": [
            "Train: (23323, 24, 4) (23323, 1)   Test: (5813, 24, 4) (5813, 1)\n"
          ]
        }
      ],
      "source": [
        "FEATS = ['temp', 'clouds', 'wind_speed', 'radiation']   # <-- замість HOURLY_VARS\n",
        "\n",
        "#Train-test split, scaling, sequence builder  (оновлена версія)\n",
        "from sklearn.preprocessing import MinMaxScaler\n",
        "\n",
        "train_size = int(len(data) * 0.8)\n",
        "train, test = data.iloc[:train_size], data.iloc[train_size:]\n",
        "\n",
        "feat_scaler   = MinMaxScaler().fit(train[FEATS])\n",
        "target_scaler = MinMaxScaler().fit(train[['pv_kw_actual']])\n",
        "\n",
        "def to_seq(df):\n",
        "    X, y = [], []\n",
        "    arr = feat_scaler.transform(df[FEATS])\n",
        "    tgt = target_scaler.transform(df[['pv_kw_actual']])\n",
        "    for i in range(len(df) - SEQ_LEN):\n",
        "        X.append(arr[i : i + SEQ_LEN])\n",
        "        y.append(tgt[i + SEQ_LEN])\n",
        "    return np.array(X), np.array(y)\n",
        "\n",
        "Xtr, ytr = to_seq(train)\n",
        "Xte, yte = to_seq(test)\n",
        "print(\"Train:\", Xtr.shape, ytr.shape, \"  Test:\", Xte.shape, yte.shape)\n"
      ]
    },
    {
      "cell_type": "code",
      "execution_count": null,
      "id": "46a166cd",
      "metadata": {
        "id": "46a166cd",
        "colab": {
          "base_uri": "https://localhost:8080/",
          "height": 595
        },
        "outputId": "db79dd3d-f507-4a60-c7d8-d833a29e8432"
      },
      "outputs": [
        {
          "output_type": "display_data",
          "data": {
            "text/plain": [
              "\u001b[1mModel: \"functional\"\u001b[0m\n"
            ],
            "text/html": [
              "<pre style=\"white-space:pre;overflow-x:auto;line-height:normal;font-family:Menlo,'DejaVu Sans Mono',consolas,'Courier New',monospace\"><span style=\"font-weight: bold\">Model: \"functional\"</span>\n",
              "</pre>\n"
            ]
          },
          "metadata": {}
        },
        {
          "output_type": "display_data",
          "data": {
            "text/plain": [
              "┏━━━━━━━━━━━━━━━━━━━━━┳━━━━━━━━━━━━━━━━━━━┳━━━━━━━━━━━━┳━━━━━━━━━━━━━━━━━━━┓\n",
              "┃\u001b[1m \u001b[0m\u001b[1mLayer (type)       \u001b[0m\u001b[1m \u001b[0m┃\u001b[1m \u001b[0m\u001b[1mOutput Shape     \u001b[0m\u001b[1m \u001b[0m┃\u001b[1m \u001b[0m\u001b[1m   Param #\u001b[0m\u001b[1m \u001b[0m┃\u001b[1m \u001b[0m\u001b[1mConnected to     \u001b[0m\u001b[1m \u001b[0m┃\n",
              "┡━━━━━━━━━━━━━━━━━━━━━╇━━━━━━━━━━━━━━━━━━━╇━━━━━━━━━━━━╇━━━━━━━━━━━━━━━━━━━┩\n",
              "│ input_layer         │ (\u001b[38;5;45mNone\u001b[0m, \u001b[38;5;34m24\u001b[0m, \u001b[38;5;34m4\u001b[0m)     │          \u001b[38;5;34m0\u001b[0m │ -                 │\n",
              "│ (\u001b[38;5;33mInputLayer\u001b[0m)        │                   │            │                   │\n",
              "├─────────────────────┼───────────────────┼────────────┼───────────────────┤\n",
              "│ conv1d (\u001b[38;5;33mConv1D\u001b[0m)     │ (\u001b[38;5;45mNone\u001b[0m, \u001b[38;5;34m24\u001b[0m, \u001b[38;5;34m64\u001b[0m)    │        \u001b[38;5;34m832\u001b[0m │ input_layer[\u001b[38;5;34m0\u001b[0m][\u001b[38;5;34m0\u001b[0m] │\n",
              "├─────────────────────┼───────────────────┼────────────┼───────────────────┤\n",
              "│ lstm (\u001b[38;5;33mLSTM\u001b[0m)         │ (\u001b[38;5;45mNone\u001b[0m, \u001b[38;5;34m24\u001b[0m, \u001b[38;5;34m64\u001b[0m)    │     \u001b[38;5;34m33,024\u001b[0m │ conv1d[\u001b[38;5;34m0\u001b[0m][\u001b[38;5;34m0\u001b[0m]      │\n",
              "├─────────────────────┼───────────────────┼────────────┼───────────────────┤\n",
              "│ dense (\u001b[38;5;33mDense\u001b[0m)       │ (\u001b[38;5;45mNone\u001b[0m, \u001b[38;5;34m24\u001b[0m, \u001b[38;5;34m1\u001b[0m)     │         \u001b[38;5;34m65\u001b[0m │ lstm[\u001b[38;5;34m0\u001b[0m][\u001b[38;5;34m0\u001b[0m]        │\n",
              "├─────────────────────┼───────────────────┼────────────┼───────────────────┤\n",
              "│ flatten (\u001b[38;5;33mFlatten\u001b[0m)   │ (\u001b[38;5;45mNone\u001b[0m, \u001b[38;5;34m24\u001b[0m)        │          \u001b[38;5;34m0\u001b[0m │ dense[\u001b[38;5;34m0\u001b[0m][\u001b[38;5;34m0\u001b[0m]       │\n",
              "├─────────────────────┼───────────────────┼────────────┼───────────────────┤\n",
              "│ activation          │ (\u001b[38;5;45mNone\u001b[0m, \u001b[38;5;34m24\u001b[0m)        │          \u001b[38;5;34m0\u001b[0m │ flatten[\u001b[38;5;34m0\u001b[0m][\u001b[38;5;34m0\u001b[0m]     │\n",
              "│ (\u001b[38;5;33mActivation\u001b[0m)        │                   │            │                   │\n",
              "├─────────────────────┼───────────────────┼────────────┼───────────────────┤\n",
              "│ repeat_vector       │ (\u001b[38;5;45mNone\u001b[0m, \u001b[38;5;34m64\u001b[0m, \u001b[38;5;34m24\u001b[0m)    │          \u001b[38;5;34m0\u001b[0m │ activation[\u001b[38;5;34m0\u001b[0m][\u001b[38;5;34m0\u001b[0m]  │\n",
              "│ (\u001b[38;5;33mRepeatVector\u001b[0m)      │                   │            │                   │\n",
              "├─────────────────────┼───────────────────┼────────────┼───────────────────┤\n",
              "│ permute (\u001b[38;5;33mPermute\u001b[0m)   │ (\u001b[38;5;45mNone\u001b[0m, \u001b[38;5;34m24\u001b[0m, \u001b[38;5;34m64\u001b[0m)    │          \u001b[38;5;34m0\u001b[0m │ repeat_vector[\u001b[38;5;34m0\u001b[0m]… │\n",
              "├─────────────────────┼───────────────────┼────────────┼───────────────────┤\n",
              "│ multiply (\u001b[38;5;33mMultiply\u001b[0m) │ (\u001b[38;5;45mNone\u001b[0m, \u001b[38;5;34m24\u001b[0m, \u001b[38;5;34m64\u001b[0m)    │          \u001b[38;5;34m0\u001b[0m │ lstm[\u001b[38;5;34m0\u001b[0m][\u001b[38;5;34m0\u001b[0m],       │\n",
              "│                     │                   │            │ permute[\u001b[38;5;34m0\u001b[0m][\u001b[38;5;34m0\u001b[0m]     │\n",
              "├─────────────────────┼───────────────────┼────────────┼───────────────────┤\n",
              "│ flatten_1 (\u001b[38;5;33mFlatten\u001b[0m) │ (\u001b[38;5;45mNone\u001b[0m, \u001b[38;5;34m1536\u001b[0m)      │          \u001b[38;5;34m0\u001b[0m │ multiply[\u001b[38;5;34m0\u001b[0m][\u001b[38;5;34m0\u001b[0m]    │\n",
              "├─────────────────────┼───────────────────┼────────────┼───────────────────┤\n",
              "│ dense_1 (\u001b[38;5;33mDense\u001b[0m)     │ (\u001b[38;5;45mNone\u001b[0m, \u001b[38;5;34m32\u001b[0m)        │     \u001b[38;5;34m49,184\u001b[0m │ flatten_1[\u001b[38;5;34m0\u001b[0m][\u001b[38;5;34m0\u001b[0m]   │\n",
              "├─────────────────────┼───────────────────┼────────────┼───────────────────┤\n",
              "│ dense_2 (\u001b[38;5;33mDense\u001b[0m)     │ (\u001b[38;5;45mNone\u001b[0m, \u001b[38;5;34m1\u001b[0m)         │         \u001b[38;5;34m33\u001b[0m │ dense_1[\u001b[38;5;34m0\u001b[0m][\u001b[38;5;34m0\u001b[0m]     │\n",
              "└─────────────────────┴───────────────────┴────────────┴───────────────────┘\n"
            ],
            "text/html": [
              "<pre style=\"white-space:pre;overflow-x:auto;line-height:normal;font-family:Menlo,'DejaVu Sans Mono',consolas,'Courier New',monospace\">┏━━━━━━━━━━━━━━━━━━━━━┳━━━━━━━━━━━━━━━━━━━┳━━━━━━━━━━━━┳━━━━━━━━━━━━━━━━━━━┓\n",
              "┃<span style=\"font-weight: bold\"> Layer (type)        </span>┃<span style=\"font-weight: bold\"> Output Shape      </span>┃<span style=\"font-weight: bold\">    Param # </span>┃<span style=\"font-weight: bold\"> Connected to      </span>┃\n",
              "┡━━━━━━━━━━━━━━━━━━━━━╇━━━━━━━━━━━━━━━━━━━╇━━━━━━━━━━━━╇━━━━━━━━━━━━━━━━━━━┩\n",
              "│ input_layer         │ (<span style=\"color: #00d7ff; text-decoration-color: #00d7ff\">None</span>, <span style=\"color: #00af00; text-decoration-color: #00af00\">24</span>, <span style=\"color: #00af00; text-decoration-color: #00af00\">4</span>)     │          <span style=\"color: #00af00; text-decoration-color: #00af00\">0</span> │ -                 │\n",
              "│ (<span style=\"color: #0087ff; text-decoration-color: #0087ff\">InputLayer</span>)        │                   │            │                   │\n",
              "├─────────────────────┼───────────────────┼────────────┼───────────────────┤\n",
              "│ conv1d (<span style=\"color: #0087ff; text-decoration-color: #0087ff\">Conv1D</span>)     │ (<span style=\"color: #00d7ff; text-decoration-color: #00d7ff\">None</span>, <span style=\"color: #00af00; text-decoration-color: #00af00\">24</span>, <span style=\"color: #00af00; text-decoration-color: #00af00\">64</span>)    │        <span style=\"color: #00af00; text-decoration-color: #00af00\">832</span> │ input_layer[<span style=\"color: #00af00; text-decoration-color: #00af00\">0</span>][<span style=\"color: #00af00; text-decoration-color: #00af00\">0</span>] │\n",
              "├─────────────────────┼───────────────────┼────────────┼───────────────────┤\n",
              "│ lstm (<span style=\"color: #0087ff; text-decoration-color: #0087ff\">LSTM</span>)         │ (<span style=\"color: #00d7ff; text-decoration-color: #00d7ff\">None</span>, <span style=\"color: #00af00; text-decoration-color: #00af00\">24</span>, <span style=\"color: #00af00; text-decoration-color: #00af00\">64</span>)    │     <span style=\"color: #00af00; text-decoration-color: #00af00\">33,024</span> │ conv1d[<span style=\"color: #00af00; text-decoration-color: #00af00\">0</span>][<span style=\"color: #00af00; text-decoration-color: #00af00\">0</span>]      │\n",
              "├─────────────────────┼───────────────────┼────────────┼───────────────────┤\n",
              "│ dense (<span style=\"color: #0087ff; text-decoration-color: #0087ff\">Dense</span>)       │ (<span style=\"color: #00d7ff; text-decoration-color: #00d7ff\">None</span>, <span style=\"color: #00af00; text-decoration-color: #00af00\">24</span>, <span style=\"color: #00af00; text-decoration-color: #00af00\">1</span>)     │         <span style=\"color: #00af00; text-decoration-color: #00af00\">65</span> │ lstm[<span style=\"color: #00af00; text-decoration-color: #00af00\">0</span>][<span style=\"color: #00af00; text-decoration-color: #00af00\">0</span>]        │\n",
              "├─────────────────────┼───────────────────┼────────────┼───────────────────┤\n",
              "│ flatten (<span style=\"color: #0087ff; text-decoration-color: #0087ff\">Flatten</span>)   │ (<span style=\"color: #00d7ff; text-decoration-color: #00d7ff\">None</span>, <span style=\"color: #00af00; text-decoration-color: #00af00\">24</span>)        │          <span style=\"color: #00af00; text-decoration-color: #00af00\">0</span> │ dense[<span style=\"color: #00af00; text-decoration-color: #00af00\">0</span>][<span style=\"color: #00af00; text-decoration-color: #00af00\">0</span>]       │\n",
              "├─────────────────────┼───────────────────┼────────────┼───────────────────┤\n",
              "│ activation          │ (<span style=\"color: #00d7ff; text-decoration-color: #00d7ff\">None</span>, <span style=\"color: #00af00; text-decoration-color: #00af00\">24</span>)        │          <span style=\"color: #00af00; text-decoration-color: #00af00\">0</span> │ flatten[<span style=\"color: #00af00; text-decoration-color: #00af00\">0</span>][<span style=\"color: #00af00; text-decoration-color: #00af00\">0</span>]     │\n",
              "│ (<span style=\"color: #0087ff; text-decoration-color: #0087ff\">Activation</span>)        │                   │            │                   │\n",
              "├─────────────────────┼───────────────────┼────────────┼───────────────────┤\n",
              "│ repeat_vector       │ (<span style=\"color: #00d7ff; text-decoration-color: #00d7ff\">None</span>, <span style=\"color: #00af00; text-decoration-color: #00af00\">64</span>, <span style=\"color: #00af00; text-decoration-color: #00af00\">24</span>)    │          <span style=\"color: #00af00; text-decoration-color: #00af00\">0</span> │ activation[<span style=\"color: #00af00; text-decoration-color: #00af00\">0</span>][<span style=\"color: #00af00; text-decoration-color: #00af00\">0</span>]  │\n",
              "│ (<span style=\"color: #0087ff; text-decoration-color: #0087ff\">RepeatVector</span>)      │                   │            │                   │\n",
              "├─────────────────────┼───────────────────┼────────────┼───────────────────┤\n",
              "│ permute (<span style=\"color: #0087ff; text-decoration-color: #0087ff\">Permute</span>)   │ (<span style=\"color: #00d7ff; text-decoration-color: #00d7ff\">None</span>, <span style=\"color: #00af00; text-decoration-color: #00af00\">24</span>, <span style=\"color: #00af00; text-decoration-color: #00af00\">64</span>)    │          <span style=\"color: #00af00; text-decoration-color: #00af00\">0</span> │ repeat_vector[<span style=\"color: #00af00; text-decoration-color: #00af00\">0</span>]… │\n",
              "├─────────────────────┼───────────────────┼────────────┼───────────────────┤\n",
              "│ multiply (<span style=\"color: #0087ff; text-decoration-color: #0087ff\">Multiply</span>) │ (<span style=\"color: #00d7ff; text-decoration-color: #00d7ff\">None</span>, <span style=\"color: #00af00; text-decoration-color: #00af00\">24</span>, <span style=\"color: #00af00; text-decoration-color: #00af00\">64</span>)    │          <span style=\"color: #00af00; text-decoration-color: #00af00\">0</span> │ lstm[<span style=\"color: #00af00; text-decoration-color: #00af00\">0</span>][<span style=\"color: #00af00; text-decoration-color: #00af00\">0</span>],       │\n",
              "│                     │                   │            │ permute[<span style=\"color: #00af00; text-decoration-color: #00af00\">0</span>][<span style=\"color: #00af00; text-decoration-color: #00af00\">0</span>]     │\n",
              "├─────────────────────┼───────────────────┼────────────┼───────────────────┤\n",
              "│ flatten_1 (<span style=\"color: #0087ff; text-decoration-color: #0087ff\">Flatten</span>) │ (<span style=\"color: #00d7ff; text-decoration-color: #00d7ff\">None</span>, <span style=\"color: #00af00; text-decoration-color: #00af00\">1536</span>)      │          <span style=\"color: #00af00; text-decoration-color: #00af00\">0</span> │ multiply[<span style=\"color: #00af00; text-decoration-color: #00af00\">0</span>][<span style=\"color: #00af00; text-decoration-color: #00af00\">0</span>]    │\n",
              "├─────────────────────┼───────────────────┼────────────┼───────────────────┤\n",
              "│ dense_1 (<span style=\"color: #0087ff; text-decoration-color: #0087ff\">Dense</span>)     │ (<span style=\"color: #00d7ff; text-decoration-color: #00d7ff\">None</span>, <span style=\"color: #00af00; text-decoration-color: #00af00\">32</span>)        │     <span style=\"color: #00af00; text-decoration-color: #00af00\">49,184</span> │ flatten_1[<span style=\"color: #00af00; text-decoration-color: #00af00\">0</span>][<span style=\"color: #00af00; text-decoration-color: #00af00\">0</span>]   │\n",
              "├─────────────────────┼───────────────────┼────────────┼───────────────────┤\n",
              "│ dense_2 (<span style=\"color: #0087ff; text-decoration-color: #0087ff\">Dense</span>)     │ (<span style=\"color: #00d7ff; text-decoration-color: #00d7ff\">None</span>, <span style=\"color: #00af00; text-decoration-color: #00af00\">1</span>)         │         <span style=\"color: #00af00; text-decoration-color: #00af00\">33</span> │ dense_1[<span style=\"color: #00af00; text-decoration-color: #00af00\">0</span>][<span style=\"color: #00af00; text-decoration-color: #00af00\">0</span>]     │\n",
              "└─────────────────────┴───────────────────┴────────────┴───────────────────┘\n",
              "</pre>\n"
            ]
          },
          "metadata": {}
        },
        {
          "output_type": "display_data",
          "data": {
            "text/plain": [
              "\u001b[1m Total params: \u001b[0m\u001b[38;5;34m83,138\u001b[0m (324.76 KB)\n"
            ],
            "text/html": [
              "<pre style=\"white-space:pre;overflow-x:auto;line-height:normal;font-family:Menlo,'DejaVu Sans Mono',consolas,'Courier New',monospace\"><span style=\"font-weight: bold\"> Total params: </span><span style=\"color: #00af00; text-decoration-color: #00af00\">83,138</span> (324.76 KB)\n",
              "</pre>\n"
            ]
          },
          "metadata": {}
        },
        {
          "output_type": "display_data",
          "data": {
            "text/plain": [
              "\u001b[1m Trainable params: \u001b[0m\u001b[38;5;34m83,138\u001b[0m (324.76 KB)\n"
            ],
            "text/html": [
              "<pre style=\"white-space:pre;overflow-x:auto;line-height:normal;font-family:Menlo,'DejaVu Sans Mono',consolas,'Courier New',monospace\"><span style=\"font-weight: bold\"> Trainable params: </span><span style=\"color: #00af00; text-decoration-color: #00af00\">83,138</span> (324.76 KB)\n",
              "</pre>\n"
            ]
          },
          "metadata": {}
        },
        {
          "output_type": "display_data",
          "data": {
            "text/plain": [
              "\u001b[1m Non-trainable params: \u001b[0m\u001b[38;5;34m0\u001b[0m (0.00 B)\n"
            ],
            "text/html": [
              "<pre style=\"white-space:pre;overflow-x:auto;line-height:normal;font-family:Menlo,'DejaVu Sans Mono',consolas,'Courier New',monospace\"><span style=\"font-weight: bold\"> Non-trainable params: </span><span style=\"color: #00af00; text-decoration-color: #00af00\">0</span> (0.00 B)\n",
              "</pre>\n"
            ]
          },
          "metadata": {}
        }
      ],
      "source": [
        "#Define Conv1D→LSTM + Attention model\n",
        "from keras import layers, models\n",
        "def attention_block(inputs):\n",
        "    score = layers.Dense(1, activation='tanh')(inputs)\n",
        "    score = layers.Flatten()(score)\n",
        "    score = layers.Activation('softmax')(score)\n",
        "    score = layers.RepeatVector(inputs.shape[-1])(score)\n",
        "    score = layers.Permute((2,1))(score)\n",
        "    return layers.Multiply()([inputs, score])\n",
        "inputs = layers.Input(shape=(SEQ_LEN, len(HOURLY_VARS)))\n",
        "x = layers.Conv1D(64, 3, activation='relu', padding='same')(inputs)\n",
        "x = layers.LSTM(64, return_sequences=True)(x)\n",
        "x = attention_block(x)\n",
        "x = layers.Flatten()(x)\n",
        "x = layers.Dense(32, activation='relu')(x)\n",
        "outputs = layers.Dense(1, activation='linear')(x)\n",
        "model = models.Model(inputs, outputs)\n",
        "model.compile(optimizer='adam', loss='mae')\n",
        "model.summary()"
      ]
    },
    {
      "cell_type": "code",
      "execution_count": null,
      "id": "TIkSLQ4MfkCq",
      "metadata": {
        "id": "TIkSLQ4MfkCq",
        "colab": {
          "base_uri": "https://localhost:8080/"
        },
        "outputId": "6187bd62-46cb-4fa9-ee69-ca3ee371cb57"
      },
      "outputs": [
        {
          "output_type": "stream",
          "name": "stdout",
          "text": [
            "Mounted at /content/drive\n"
          ]
        }
      ],
      "source": [
        "from google.colab import drive\n",
        "drive.mount('/content/drive')"
      ]
    },
    {
      "cell_type": "code",
      "execution_count": null,
      "id": "24da704d",
      "metadata": {
        "id": "24da704d",
        "colab": {
          "base_uri": "https://localhost:8080/"
        },
        "outputId": "82f226ba-06c4-4815-c50c-9f35072a5546"
      },
      "outputs": [
        {
          "output_type": "stream",
          "name": "stdout",
          "text": [
            "Epoch 1/50\n",
            "584/584 - 16s - 27ms/step - loss: 0.0743 - val_loss: 0.0641 - learning_rate: 1.0000e-03\n",
            "Epoch 2/50\n",
            "584/584 - 13s - 22ms/step - loss: 0.0588 - val_loss: 0.0589 - learning_rate: 1.0000e-03\n",
            "Epoch 3/50\n",
            "584/584 - 12s - 21ms/step - loss: 0.0572 - val_loss: 0.0607 - learning_rate: 1.0000e-03\n",
            "Epoch 4/50\n",
            "584/584 - 22s - 37ms/step - loss: 0.0563 - val_loss: 0.0567 - learning_rate: 1.0000e-03\n",
            "Epoch 5/50\n",
            "584/584 - 19s - 33ms/step - loss: 0.0560 - val_loss: 0.0581 - learning_rate: 1.0000e-03\n",
            "Epoch 6/50\n",
            "584/584 - 19s - 32ms/step - loss: 0.0557 - val_loss: 0.0621 - learning_rate: 1.0000e-03\n",
            "Epoch 7/50\n",
            "584/584 - 22s - 38ms/step - loss: 0.0555 - val_loss: 0.0567 - learning_rate: 1.0000e-03\n",
            "Epoch 8/50\n",
            "584/584 - 12s - 20ms/step - loss: 0.0550 - val_loss: 0.0559 - learning_rate: 5.0000e-04\n",
            "Epoch 9/50\n",
            "584/584 - 20s - 35ms/step - loss: 0.0548 - val_loss: 0.0559 - learning_rate: 5.0000e-04\n",
            "Epoch 10/50\n",
            "584/584 - 21s - 36ms/step - loss: 0.0545 - val_loss: 0.0569 - learning_rate: 5.0000e-04\n",
            "Epoch 11/50\n",
            "584/584 - 12s - 21ms/step - loss: 0.0546 - val_loss: 0.0557 - learning_rate: 5.0000e-04\n",
            "Epoch 12/50\n",
            "584/584 - 20s - 35ms/step - loss: 0.0546 - val_loss: 0.0566 - learning_rate: 5.0000e-04\n",
            "Epoch 13/50\n",
            "584/584 - 21s - 35ms/step - loss: 0.0545 - val_loss: 0.0557 - learning_rate: 5.0000e-04\n",
            "Epoch 14/50\n",
            "584/584 - 20s - 35ms/step - loss: 0.0546 - val_loss: 0.0557 - learning_rate: 5.0000e-04\n",
            "Epoch 15/50\n",
            "584/584 - 20s - 35ms/step - loss: 0.0541 - val_loss: 0.0555 - learning_rate: 2.5000e-04\n",
            "Epoch 16/50\n",
            "584/584 - 21s - 35ms/step - loss: 0.0541 - val_loss: 0.0557 - learning_rate: 2.5000e-04\n",
            "Epoch 17/50\n",
            "584/584 - 21s - 35ms/step - loss: 0.0541 - val_loss: 0.0558 - learning_rate: 2.5000e-04\n",
            "Epoch 18/50\n",
            "584/584 - 20s - 35ms/step - loss: 0.0540 - val_loss: 0.0562 - learning_rate: 2.5000e-04\n",
            "Epoch 19/50\n",
            "584/584 - 20s - 34ms/step - loss: 0.0538 - val_loss: 0.0555 - learning_rate: 1.2500e-04\n",
            "Epoch 20/50\n",
            "584/584 - 12s - 20ms/step - loss: 0.0538 - val_loss: 0.0559 - learning_rate: 1.2500e-04\n",
            "Epoch 21/50\n",
            "584/584 - 20s - 35ms/step - loss: 0.0537 - val_loss: 0.0558 - learning_rate: 1.2500e-04\n",
            "Epoch 22/50\n",
            "584/584 - 12s - 21ms/step - loss: 0.0536 - val_loss: 0.0559 - learning_rate: 6.2500e-05\n"
          ]
        }
      ],
      "source": [
        "#Train\n",
        "from keras import callbacks\n",
        "cbs = [callbacks.EarlyStopping(patience=7, restore_best_weights=True),\n",
        "       callbacks.ReduceLROnPlateau(patience=3, factor=0.5)]\n",
        "history = model.fit(Xtr, ytr,\n",
        "                    epochs=EPOCHS,\n",
        "                    batch_size=BATCH,\n",
        "                    validation_split=0.2,\n",
        "                    callbacks=cbs,\n",
        "                    verbose=2)\n",
        "import os\n",
        "\n",
        "save_dir = '/content/drive/MyDrive/pv/'\n",
        "os.makedirs(save_dir, exist_ok=True)\n",
        "\n",
        "model.save(save_dir + 'model.keras', overwrite=True)"
      ]
    },
    {
      "cell_type": "code",
      "execution_count": null,
      "id": "01294e22",
      "metadata": {
        "id": "01294e22",
        "colab": {
          "base_uri": "https://localhost:8080/"
        },
        "outputId": "9d0fd209-cfe3-4717-9080-5c93f4fcdc65"
      },
      "outputs": [
        {
          "output_type": "stream",
          "name": "stdout",
          "text": [
            "✅ Saved to /content/drive/MyDrive/pv\n"
          ]
        }
      ],
      "source": [
        "#Save artefacts to Drive\n",
        "from pathlib import Path\n",
        "import joblib, keras, os\n",
        "drive_path = '/content/drive/MyDrive/pv'\n",
        "Path(drive_path).mkdir(parents=True, exist_ok=True)\n",
        "model.save(f'{drive_path}/model.keras', overwrite=True)\n",
        "joblib.dump(feat_scaler,   f'{drive_path}/feat_scaler.gz')\n",
        "joblib.dump(target_scaler, f'{drive_path}/target_scaler.gz')\n",
        "print('✅ Saved to', drive_path)"
      ]
    },
    {
      "cell_type": "code",
      "execution_count": null,
      "id": "5031d50a",
      "metadata": {
        "id": "5031d50a",
        "colab": {
          "base_uri": "https://localhost:8080/",
          "height": 472
        },
        "outputId": "cc5f6042-d9f5-49ee-a7a8-a2fdc4fb3f49"
      },
      "outputs": [
        {
          "output_type": "display_data",
          "data": {
            "text/plain": [
              "<Figure size 640x480 with 1 Axes>"
            ],
            "image/png": "[encoded data removed]"
          },
          "metadata": {}
        }
      ],
      "source": [
        "#Training curves\n",
        "import matplotlib.pyplot as plt\n",
        "plt.figure()\n",
        "plt.plot(history.history['loss'],     label='train MAE')\n",
        "plt.plot(history.history['val_loss'], label='val MAE')\n",
        "plt.title('Learning curve')\n",
        "plt.xlabel('Epoch'); plt.ylabel('MAE (norm)')\n",
        "plt.legend(); plt.grid(True); plt.show()"
      ]
    },
    {
      "cell_type": "code",
      "execution_count": null,
      "id": "1ef83819",
      "metadata": {
        "id": "1ef83819",
        "colab": {
          "base_uri": "https://localhost:8080/",
          "height": 461
        },
        "outputId": "aeeb3905-9e98-4db7-bc14-91a39222afbe"
      },
      "outputs": [
        {
          "output_type": "stream",
          "name": "stdout",
          "text": [
            "\u001b[1m182/182\u001b[0m \u001b[32m━━━━━━━━━━━━━━━━━━━━\u001b[0m\u001b[37m\u001b[0m \u001b[1m2s\u001b[0m 7ms/step\n"
          ]
        },
        {
          "output_type": "stream",
          "name": "stderr",
          "text": [
            "<ipython-input-12-251091e050a3>:5: FutureWarning: 'H' is deprecated and will be removed in a future version, please use 'h' instead.\n",
            "  idx   = pd.date_range(start=test.index[SEQ_LEN], periods=len(true), freq='H')\n"
          ]
        },
        {
          "output_type": "display_data",
          "data": {
            "text/plain": [
              "<Figure size 1200x400 with 1 Axes>"
            ],
            "image/png": "[encoded data removed]"
          },
          "metadata": {}
        }
      ],
      "source": [
        "#Prediction vs ground‑truth on test set\n",
        "import numpy as np, matplotlib.pyplot as plt, pandas as pd\n",
        "pred  = target_scaler.inverse_transform(model.predict(Xte)).ravel()\n",
        "true  = target_scaler.inverse_transform(yte).ravel()\n",
        "idx   = pd.date_range(start=test.index[SEQ_LEN], periods=len(true), freq='H')\n",
        "plt.figure(figsize=(12,4))\n",
        "plt.plot(idx[-200:], true[-200:], label='true', linewidth=1)\n",
        "plt.plot(idx[-200:], pred[-200:], label='pred', linewidth=1)\n",
        "plt.title('Last 200 hours – true vs prediction')\n",
        "plt.legend(); plt.tight_layout(); plt.show()"
      ]
    },
    {
      "cell_type": "code",
      "execution_count": null,
      "id": "f3ea94bb",
      "metadata": {
        "id": "f3ea94bb",
        "colab": {
          "base_uri": "https://localhost:8080/",
          "height": 255
        },
        "outputId": "b85be387-9118-44c3-a4ab-4443f38882f3"
      },
      "outputs": [
        {
          "output_type": "stream",
          "name": "stdout",
          "text": [
            "\u001b[1m1/1\u001b[0m \u001b[32m━━━━━━━━━━━━━━━━━━━━\u001b[0m\u001b[37m\u001b[0m \u001b[1m0s\u001b[0m 356ms/step\n"
          ]
        },
        {
          "output_type": "display_data",
          "data": {
            "text/plain": [
              "<Figure size 800x200 with 1 Axes>"
            ],
            "image/png": "[encoded data removed]"
          },
          "metadata": {}
        }
      ],
      "source": [
        "#Attention heatmap for перший тест‑зразок\n",
        "import numpy as np, matplotlib.pyplot as plt, seaborn as sns\n",
        "from keras import Model\n",
        "#пошук multiply‑layer (attention output)\n",
        "target_layer = None\n",
        "for layer in model.layers:\n",
        "    if layer.name.startswith('multiply'):\n",
        "        target_layer = layer\n",
        "        break\n",
        "if target_layer is None:\n",
        "    print('⚠️  Attention layer not found')\n",
        "else:\n",
        "    att_model = Model(inputs=model.input, outputs=target_layer.output)\n",
        "    att_weights = att_model.predict(Xte[:1])[0]  # shape (SEQ_LEN, features)\n",
        "    weights = att_weights.sum(axis=-1)\n",
        "    weights /= weights.max()\n",
        "    plt.figure(figsize=(8,2))\n",
        "    sns.heatmap(weights[np.newaxis,:], cmap='viridis', cbar=False,\n",
        "                xticklabels=range(1, len(weights)+1), yticklabels=['att'])\n",
        "    plt.title('Attention weights across sequence'); plt.show()"
      ]
    },
    {
      "cell_type": "code",
      "execution_count": null,
      "id": "8db24fd7",
      "metadata": {
        "id": "8db24fd7",
        "colab": {
          "base_uri": "https://localhost:8080/"
        },
        "outputId": "fd375b09-e810-4157-813a-a8ad9aea7a61"
      },
      "outputs": [
        {
          "output_type": "stream",
          "name": "stdout",
          "text": [
            "✅ Artefacts reloaded, ready for inference\n"
          ]
        }
      ],
      "source": [
        "#Reload artefacts (run at session start if needed)\n",
        "import joblib, keras, os, numpy as np\n",
        "drive_path = '/content/drive/MyDrive/pv'\n",
        "model = keras.models.load_model(f'{drive_path}/model.keras')\n",
        "feat_scaler   = joblib.load(f'{drive_path}/feat_scaler.gz')\n",
        "target_scaler = joblib.load(f'{drive_path}/target_scaler.gz')\n",
        "print('✅ Artefacts reloaded, ready for inference')"
      ]
    },
    {
      "cell_type": "code",
      "execution_count": null,
      "id": "290d2603",
      "metadata": {
        "id": "290d2603",
        "colab": {
          "base_uri": "https://localhost:8080/"
        },
        "outputId": "44d49502-517c-4767-cce0-b3c0f8d5cb98"
      },
      "outputs": [
        {
          "output_type": "stream",
          "name": "stdout",
          "text": [
            "\u001b[1m182/182\u001b[0m \u001b[32m━━━━━━━━━━━━━━━━━━━━\u001b[0m\u001b[37m\u001b[0m \u001b[1m2s\u001b[0m 8ms/step\n",
            "📉  MAPE LSTM = 163.91%  |  Naive = 467.91%\n"
          ]
        }
      ],
      "source": [
        "#Evaluate vs naïve‑lag1\n",
        "pred  = target_scaler.inverse_transform(model.predict(Xte))\n",
        "true  = target_scaler.inverse_transform(yte)\n",
        "mape  = np.mean(np.abs((true - pred) / true)) * 100\n",
        "naive = np.mean(np.abs((true[1:] - true[:-1]) / true[1:])) * 100\n",
        "print(f'📉  MAPE LSTM = {mape:.2f}%  |  Naive = {naive:.2f}%')"
      ]
    },
    {
      "cell_type": "code",
      "execution_count": null,
      "id": "ff11d9ec",
      "metadata": {
        "id": "ff11d9ec",
        "colab": {
          "base_uri": "https://localhost:8080/",
          "height": 224
        },
        "outputId": "89b56bab-1b48-477e-e94b-dd9e204f695a"
      },
      "outputs": [
        {
          "output_type": "stream",
          "name": "stdout",
          "text": [
            "\u001b[1m1/1\u001b[0m \u001b[32m━━━━━━━━━━━━━━━━━━━━\u001b[0m\u001b[37m\u001b[0m \u001b[1m0s\u001b[0m 45ms/step\n"
          ]
        },
        {
          "output_type": "execute_result",
          "data": {
            "text/plain": [
              "    temp  clouds  wind_speed  radiation            datetime  pv_kw_pred\n",
              "24   9.8     100        11.5        0.0 2025-05-06 00:00:00  -21.351124\n",
              "25   8.9     100        13.0        0.0 2025-05-06 01:00:00  -21.549982\n",
              "26   8.1     100        11.5        0.0 2025-05-06 02:00:00  -21.085464\n",
              "27   7.3     100        10.8        0.0 2025-05-06 03:00:00  -21.076220\n",
              "28   7.0     100        10.1        3.0 2025-05-06 04:00:00  -20.698143"
            ],
            "text/html": [
              "\n",
              "  <div id=\"df-46cb3152-1343-49f1-87fd-f6d8a0766a11\" class=\"colab-df-container\">\n",
              "    <div>\n",
              "<style scoped>\n",
              "    .dataframe tbody tr th:only-of-type {\n",
              "        vertical-align: middle;\n",
              "    }\n",
              "\n",
              "    .dataframe tbody tr th {\n",
              "        vertical-align: top;\n",
              "    }\n",
              "\n",
              "    .dataframe thead th {\n",
              "        text-align: right;\n",
              "    }\n",
              "</style>\n",
              "<table border=\"1\" class=\"dataframe\">\n",
              "  <thead>\n",
              "    <tr style=\"text-align: right;\">\n",
              "      <th></th>\n",
              "      <th>temp</th>\n",
              "      <th>clouds</th>\n",
              "      <th>wind_speed</th>\n",
              "      <th>radiation</th>\n",
              "      <th>datetime</th>\n",
              "      <th>pv_kw_pred</th>\n",
              "    </tr>\n",
              "  </thead>\n",
              "  <tbody>\n",
              "    <tr>\n",
              "      <th>24</th>\n",
              "      <td>9.8</td>\n",
              "      <td>100</td>\n",
              "      <td>11.5</td>\n",
              "      <td>0.0</td>\n",
              "      <td>2025-05-06 00:00:00</td>\n",
              "      <td>-21.351124</td>\n",
              "    </tr>\n",
              "    <tr>\n",
              "      <th>25</th>\n",
              "      <td>8.9</td>\n",
              "      <td>100</td>\n",
              "      <td>13.0</td>\n",
              "      <td>0.0</td>\n",
              "      <td>2025-05-06 01:00:00</td>\n",
              "      <td>-21.549982</td>\n",
              "    </tr>\n",
              "    <tr>\n",
              "      <th>26</th>\n",
              "      <td>8.1</td>\n",
              "      <td>100</td>\n",
              "      <td>11.5</td>\n",
              "      <td>0.0</td>\n",
              "      <td>2025-05-06 02:00:00</td>\n",
              "      <td>-21.085464</td>\n",
              "    </tr>\n",
              "    <tr>\n",
              "      <th>27</th>\n",
              "      <td>7.3</td>\n",
              "      <td>100</td>\n",
              "      <td>10.8</td>\n",
              "      <td>0.0</td>\n",
              "      <td>2025-05-06 03:00:00</td>\n",
              "      <td>-21.076220</td>\n",
              "    </tr>\n",
              "    <tr>\n",
              "      <th>28</th>\n",
              "      <td>7.0</td>\n",
              "      <td>100</td>\n",
              "      <td>10.1</td>\n",
              "      <td>3.0</td>\n",
              "      <td>2025-05-06 04:00:00</td>\n",
              "      <td>-20.698143</td>\n",
              "    </tr>\n",
              "  </tbody>\n",
              "</table>\n",
              "</div>\n",
              "    <div class=\"colab-df-buttons\">\n",
              "\n",
              "  <div class=\"colab-df-container\">\n",
              "    <button class=\"colab-df-convert\" onclick=\"convertToInteractive('df-46cb3152-1343-49f1-87fd-f6d8a0766a11')\"\n",
              "            title=\"Convert this dataframe to an interactive table.\"\n",
              "            style=\"display:none;\">\n",
              "\n",
              "  <svg xmlns=\"http://www.w3.org/2000/svg\" height=\"24px\" viewBox=\"0 -960 960 960\">\n",
              "    <path d=\"M120-120v-720h720v720H120Zm60-500h600v-160H180v160Zm220 220h160v-160H400v160Zm0 220h160v-160H400v160ZM180-400h160v-160H180v160Zm440 0h160v-160H620v160ZM180-180h160v-160H180v160Zm440 0h160v-160H620v160Z\"/>\n",
              "  </svg>\n",
              "    </button>\n",
              "\n",
              "  <style>\n",
              "    .colab-df-container {\n",
              "      display:flex;\n",
              "      gap: 12px;\n",
              "    }\n",
              "\n",
              "    .colab-df-convert {\n",
              "      background-color: #E8F0FE;\n",
              "      border: none;\n",
              "      border-radius: 50%;\n",
              "      cursor: pointer;\n",
              "      display: none;\n",
              "      fill: #1967D2;\n",
              "      height: 32px;\n",
              "      padding: 0 0 0 0;\n",
              "      width: 32px;\n",
              "    }\n",
              "\n",
              "    .colab-df-convert:hover {\n",
              "      background-color: #E2EBFA;\n",
              "      box-shadow: 0px 1px 2px rgba(60, 64, 67, 0.3), 0px 1px 3px 1px rgba(60, 64, 67, 0.15);\n",
              "      fill: #174EA6;\n",
              "    }\n",
              "\n",
              "    .colab-df-buttons div {\n",
              "      margin-bottom: 4px;\n",
              "    }\n",
              "\n",
              "    [theme=dark] .colab-df-convert {\n",
              "      background-color: #3B4455;\n",
              "      fill: #D2E3FC;\n",
              "    }\n",
              "\n",
              "    [theme=dark] .colab-df-convert:hover {\n",
              "      background-color: #434B5C;\n",
              "      box-shadow: 0px 1px 3px 1px rgba(0, 0, 0, 0.15);\n",
              "      filter: drop-shadow(0px 1px 2px rgba(0, 0, 0, 0.3));\n",
              "      fill: #FFFFFF;\n",
              "    }\n",
              "  </style>\n",
              "\n",
              "    <script>\n",
              "      const buttonEl =\n",
              "        document.querySelector('#df-46cb3152-1343-49f1-87fd-f6d8a0766a11 button.colab-df-convert');\n",
              "      buttonEl.style.display =\n",
              "        google.colab.kernel.accessAllowed ? 'block' : 'none';\n",
              "\n",
              "      async function convertToInteractive(key) {\n",
              "        const element = document.querySelector('#df-46cb3152-1343-49f1-87fd-f6d8a0766a11');\n",
              "        const dataTable =\n",
              "          await google.colab.kernel.invokeFunction('convertToInteractive',\n",
              "                                                    [key], {});\n",
              "        if (!dataTable) return;\n",
              "\n",
              "        const docLinkHtml = 'Like what you see? Visit the ' +\n",
              "          '<a target=\"_blank\" href=https://colab.research.google.com/notebooks/data_table.ipynb>data table notebook</a>'\n",
              "          + ' to learn more about interactive tables.';\n",
              "        element.innerHTML = '';\n",
              "        dataTable['output_type'] = 'display_data';\n",
              "        await google.colab.output.renderOutput(dataTable, element);\n",
              "        const docLink = document.createElement('div');\n",
              "        docLink.innerHTML = docLinkHtml;\n",
              "        element.appendChild(docLink);\n",
              "      }\n",
              "    </script>\n",
              "  </div>\n",
              "\n",
              "\n",
              "    <div id=\"df-e0fe6adf-abab-4446-a624-d5127a205bc9\">\n",
              "      <button class=\"colab-df-quickchart\" onclick=\"quickchart('df-e0fe6adf-abab-4446-a624-d5127a205bc9')\"\n",
              "                title=\"Suggest charts\"\n",
              "                style=\"display:none;\">\n",
              "\n",
              "<svg xmlns=\"http://www.w3.org/2000/svg\" height=\"24px\"viewBox=\"0 0 24 24\"\n",
              "     width=\"24px\">\n",
              "    <g>\n",
              "        <path d=\"M19 3H5c-1.1 0-2 .9-2 2v14c0 1.1.9 2 2 2h14c1.1 0 2-.9 2-2V5c0-1.1-.9-2-2-2zM9 17H7v-7h2v7zm4 0h-2V7h2v10zm4 0h-2v-4h2v4z\"/>\n",
              "    </g>\n",
              "</svg>\n",
              "      </button>\n",
              "\n",
              "<style>\n",
              "  .colab-df-quickchart {\n",
              "      --bg-color: #E8F0FE;\n",
              "      --fill-color: #1967D2;\n",
              "      --hover-bg-color: #E2EBFA;\n",
              "      --hover-fill-color: #174EA6;\n",
              "      --disabled-fill-color: #AAA;\n",
              "      --disabled-bg-color: #DDD;\n",
              "  }\n",
              "\n",
              "  [theme=dark] .colab-df-quickchart {\n",
              "      --bg-color: #3B4455;\n",
              "      --fill-color: #D2E3FC;\n",
              "      --hover-bg-color: #434B5C;\n",
              "      --hover-fill-color: #FFFFFF;\n",
              "      --disabled-bg-color: #3B4455;\n",
              "      --disabled-fill-color: #666;\n",
              "  }\n",
              "\n",
              "  .colab-df-quickchart {\n",
              "    background-color: var(--bg-color);\n",
              "    border: none;\n",
              "    border-radius: 50%;\n",
              "    cursor: pointer;\n",
              "    display: none;\n",
              "    fill: var(--fill-color);\n",
              "    height: 32px;\n",
              "    padding: 0;\n",
              "    width: 32px;\n",
              "  }\n",
              "\n",
              "  .colab-df-quickchart:hover {\n",
              "    background-color: var(--hover-bg-color);\n",
              "    box-shadow: 0 1px 2px rgba(60, 64, 67, 0.3), 0 1px 3px 1px rgba(60, 64, 67, 0.15);\n",
              "    fill: var(--button-hover-fill-color);\n",
              "  }\n",
              "\n",
              "  .colab-df-quickchart-complete:disabled,\n",
              "  .colab-df-quickchart-complete:disabled:hover {\n",
              "    background-color: var(--disabled-bg-color);\n",
              "    fill: var(--disabled-fill-color);\n",
              "    box-shadow: none;\n",
              "  }\n",
              "\n",
              "  .colab-df-spinner {\n",
              "    border: 2px solid var(--fill-color);\n",
              "    border-color: transparent;\n",
              "    border-bottom-color: var(--fill-color);\n",
              "    animation:\n",
              "      spin 1s steps(1) infinite;\n",
              "  }\n",
              "\n",
              "  @keyframes spin {\n",
              "    0% {\n",
              "      border-color: transparent;\n",
              "      border-bottom-color: var(--fill-color);\n",
              "      border-left-color: var(--fill-color);\n",
              "    }\n",
              "    20% {\n",
              "      border-color: transparent;\n",
              "      border-left-color: var(--fill-color);\n",
              "      border-top-color: var(--fill-color);\n",
              "    }\n",
              "    30% {\n",
              "      border-color: transparent;\n",
              "      border-left-color: var(--fill-color);\n",
              "      border-top-color: var(--fill-color);\n",
              "      border-right-color: var(--fill-color);\n",
              "    }\n",
              "    40% {\n",
              "      border-color: transparent;\n",
              "      border-right-color: var(--fill-color);\n",
              "      border-top-color: var(--fill-color);\n",
              "    }\n",
              "    60% {\n",
              "      border-color: transparent;\n",
              "      border-right-color: var(--fill-color);\n",
              "    }\n",
              "    80% {\n",
              "      border-color: transparent;\n",
              "      border-right-color: var(--fill-color);\n",
              "      border-bottom-color: var(--fill-color);\n",
              "    }\n",
              "    90% {\n",
              "      border-color: transparent;\n",
              "      border-bottom-color: var(--fill-color);\n",
              "    }\n",
              "  }\n",
              "</style>\n",
              "\n",
              "      <script>\n",
              "        async function quickchart(key) {\n",
              "          const quickchartButtonEl =\n",
              "            document.querySelector('#' + key + ' button');\n",
              "          quickchartButtonEl.disabled = true;  // To prevent multiple clicks.\n",
              "          quickchartButtonEl.classList.add('colab-df-spinner');\n",
              "          try {\n",
              "            const charts = await google.colab.kernel.invokeFunction(\n",
              "                'suggestCharts', [key], {});\n",
              "          } catch (error) {\n",
              "            console.error('Error during call to suggestCharts:', error);\n",
              "          }\n",
              "          quickchartButtonEl.classList.remove('colab-df-spinner');\n",
              "          quickchartButtonEl.classList.add('colab-df-quickchart-complete');\n",
              "        }\n",
              "        (() => {\n",
              "          let quickchartButtonEl =\n",
              "            document.querySelector('#df-e0fe6adf-abab-4446-a624-d5127a205bc9 button');\n",
              "          quickchartButtonEl.style.display =\n",
              "            google.colab.kernel.accessAllowed ? 'block' : 'none';\n",
              "        })();\n",
              "      </script>\n",
              "    </div>\n",
              "    </div>\n",
              "  </div>\n"
            ],
            "application/vnd.google.colaboratory.intrinsic+json": {
              "type": "dataframe",
              "summary": "{\n  \"name\": \"forecast48()\",\n  \"rows\": 5,\n  \"fields\": [\n    {\n      \"column\": \"temp\",\n      \"properties\": {\n        \"dtype\": \"number\",\n        \"std\": 1.1519548602267369,\n        \"min\": 7.0,\n        \"max\": 9.8,\n        \"num_unique_values\": 5,\n        \"samples\": [\n          8.9,\n          7.0,\n          8.1\n        ],\n        \"semantic_type\": \"\",\n        \"description\": \"\"\n      }\n    },\n    {\n      \"column\": \"clouds\",\n      \"properties\": {\n        \"dtype\": \"number\",\n        \"std\": 0,\n        \"min\": 100,\n        \"max\": 100,\n        \"num_unique_values\": 1,\n        \"samples\": [\n          100\n        ],\n        \"semantic_type\": \"\",\n        \"description\": \"\"\n      }\n    },\n    {\n      \"column\": \"wind_speed\",\n      \"properties\": {\n        \"dtype\": \"number\",\n        \"std\": 1.0756393447619885,\n        \"min\": 10.1,\n        \"max\": 13.0,\n        \"num_unique_values\": 4,\n        \"samples\": [\n          13.0\n        ],\n        \"semantic_type\": \"\",\n        \"description\": \"\"\n      }\n    },\n    {\n      \"column\": \"radiation\",\n      \"properties\": {\n        \"dtype\": \"number\",\n        \"std\": 1.3416407864998738,\n        \"min\": 0.0,\n        \"max\": 3.0,\n        \"num_unique_values\": 2,\n        \"samples\": [\n          3.0\n        ],\n        \"semantic_type\": \"\",\n        \"description\": \"\"\n      }\n    },\n    {\n      \"column\": \"datetime\",\n      \"properties\": {\n        \"dtype\": \"date\",\n        \"min\": \"2025-05-06 00:00:00\",\n        \"max\": \"2025-05-06 04:00:00\",\n        \"num_unique_values\": 5,\n        \"samples\": [\n          \"2025-05-06 01:00:00\"\n        ],\n        \"semantic_type\": \"\",\n        \"description\": \"\"\n      }\n    },\n    {\n      \"column\": \"pv_kw_pred\",\n      \"properties\": {\n        \"dtype\": \"float32\",\n        \"num_unique_values\": 5,\n        \"samples\": [\n          -21.54998207092285\n        ],\n        \"semantic_type\": \"\",\n        \"description\": \"\"\n      }\n    }\n  ]\n}"
            }
          },
          "metadata": {},
          "execution_count": 16
        }
      ],
      "source": [
        "def forecast48(lat=LAT, lon=LON):\n",
        "    url = (f\"https://api.open-meteo.com/v1/forecast?\"\n",
        "           f\"latitude={lat}&longitude={lon}\"\n",
        "           f\"&hourly={','.join(HOURLY_VARS)}&forecast_days=2&timezone=UTC\")\n",
        "\n",
        "    df = pd.DataFrame(requests.get(url, timeout=30).json()['hourly'])\n",
        "    df['datetime'] = pd.to_datetime(df.pop('time'))\n",
        "\n",
        "\n",
        "    df = df.rename(columns={\n",
        "        'temperature_2m':      'temp',\n",
        "        'cloudcover':          'clouds',\n",
        "        'windspeed_10m':       'wind_speed',\n",
        "        'shortwave_radiation': 'radiation'\n",
        "    })\n",
        "\n",
        "    # далі — ті самі дії\n",
        "    feats = feat_scaler.transform(df[FEATS])          # FEATS = ['temp','clouds','wind_speed','radiation']\n",
        "    seqs  = np.stack([feats[i-SEQ_LEN:i] for i in range(SEQ_LEN, len(df))])\n",
        "    pv_hat = target_scaler.inverse_transform(model.predict(seqs)).ravel()\n",
        "\n",
        "    return df.iloc[SEQ_LEN:].assign(pv_kw_pred=pv_hat)\n",
        "\n",
        "forecast48().head()\n"
      ]
    },
    {
      "cell_type": "code",
      "execution_count": null,
      "id": "8d1024dc",
      "metadata": {
        "colab": {
          "base_uri": "https://localhost:8080/"
        },
        "id": "8d1024dc",
        "outputId": "ee5011d5-efb4-4e33-dc5b-7589e0c1112a"
      },
      "outputs": [
        {
          "output_type": "stream",
          "name": "stdout",
          "text": [
            "🌐  Prod URL → https://bee5-34-80-85-64.ngrok-free.app/v1/predict\n",
            " * Serving Flask app '__main__'\n",
            " * Debug mode: off\n"
          ]
        },
        {
          "output_type": "stream",
          "name": "stderr",
          "text": [
            "INFO:werkzeug:\u001b[31m\u001b[1mWARNING: This is a development server. Do not use it in a production deployment. Use a production WSGI server instead.\u001b[0m\n",
            " * Running on all addresses (0.0.0.0)\n",
            " * Running on http://127.0.0.1:5000\n",
            " * Running on http://172.28.0.12:5000\n",
            "INFO:werkzeug:\u001b[33mPress CTRL+C to quit\u001b[0m\n"
          ]
        }
      ],
      "source": [
        "from flask import Flask, request, jsonify\n",
        "from pyngrok import ngrok, conf\n",
        "import os, numpy as np\n",
        "\n",
        "\n",
        "try:\n",
        "    from google.colab import userdata   # noqa: F401\n",
        "    NGROK_TOKEN = userdata.get('NGROK_TOKEN')\n",
        "except (ImportError, Exception):\n",
        "    NGROK_TOKEN = None                  # secrets недоступні / не створені\n",
        "\n",
        "\n",
        "NGROK_TOKEN = NGROK_TOKEN or os.getenv('NGROK_TOKEN')\n",
        "\n",
        "\n",
        "NGROK_TOKEN = NGROK_TOKEN or \"2wcrRMlSH9Ml5Xv2ifRwSkCHTnX_6aBQkKAY9oQU4xtNPfu5K\"\n",
        "\n",
        "if not NGROK_TOKEN:\n",
        "    raise RuntimeError(\"❌ NGROK_TOKEN is not заданий у Secrets, env або коді.\")\n",
        "\n",
        "conf.get_default().auth_token = NGROK_TOKEN\n",
        "\n",
        "# ── Flask API\n",
        "app = Flask(__name__)\n",
        "\n",
        "@app.route('/v1/predict', methods=['POST'])\n",
        "def predict():\n",
        "    seq = np.array(request.json['seq'], dtype=float).reshape(1, SEQ_LEN, -1)\n",
        "    seq = feat_scaler.transform(seq[0]).reshape(1, SEQ_LEN, -1)\n",
        "    y   = model.predict(seq).ravel()[0]\n",
        "    kw  = float(target_scaler.inverse_transform([[y]])[0, 0])\n",
        "    return jsonify({'kw': kw})\n",
        "\n",
        "public_url = ngrok.connect(5000, bind_tls=True).public_url\n",
        "print(f\"🌐  Prod URL → {public_url}/v1/predict\")\n",
        "\n",
        "app.run('0.0.0.0', 5000, debug=False, use_reloader=False)\n"
      ]
    }
  ],
  "metadata": {
    "colab": {
      "provenance": []
    },
    "kernelspec": {
      "display_name": "Python 3",
      "language": "python",
      "name": "python3"
    }
  },
  "nbformat": 4,
  "nbformat_minor": 5
}